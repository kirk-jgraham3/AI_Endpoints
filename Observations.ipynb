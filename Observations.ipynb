{
 "cells": [
  {
   "cell_type": "code",
   "execution_count": 1,
   "metadata": {},
   "outputs": [],
   "source": [
    "import os\n",
    "from openai import OpenAI\n",
    "import csv"
   ]
  },
  {
   "cell_type": "code",
   "execution_count": 2,
   "metadata": {},
   "outputs": [],
   "source": [
    "client = OpenAI()\n",
    "\n",
    "def param_testing(description, context, prompt, temperature=0.2, n=1, max_tokens=50, model=\"gpt-3.5-turbo\"):\n",
    "    response = client.chat.completions.create(\n",
    "      model=model,\n",
    "      messages = [\n",
    "        {\"role\": \"system\", \"content\": context},\n",
    "        {\"role\": \"user\", \"content\": f\"{prompt} {description}\"}\n",
    "      ],\n",
    "      n=n,\n",
    "      temperature=temperature,\n",
    "      max_tokens=max_tokens\n",
    "    )\n",
    "    return response"
   ]
  },
  {
   "cell_type": "markdown",
   "metadata": {},
   "source": [
    "In this case, I will keep context and prompt static.\n",
    "\n",
    "In the initial testing, I noticed that the following context/prompt combination was the best for keeping the responses within the word limit. The context did not have a significant effect on the word count that I noticed."
   ]
  },
  {
   "cell_type": "code",
   "execution_count": 3,
   "metadata": {},
   "outputs": [],
   "source": [
    "context = \"You are an informative assistant, providing clear and factual information.\"\n",
    "prompt = \"Rewrite this description with 30 words or less:\"\n",
    "description = \"As a skilled 3rd year computer science student with a strong foundation in full stack web development and machine learning, I bring a unique blend of technical and soft skills to any team. My expertise spans multiple programming languages including Python, C++, and Java, as well as a range of technical tools such as GitHub, PostgreSQL, and Unity. I have experience in both academic and personal projects. My background includes leading STEM education initiatives, where I have honed my ability to communicate complex concepts effectively and foster creativity and problem-solving skills in others.\""
   ]
  },
  {
   "cell_type": "code",
   "execution_count": 6,
   "metadata": {},
   "outputs": [
    {
     "name": "stdout",
     "output_type": "stream",
     "text": [
      "Response: Experienced 3rd year computer science student proficient in full stack web development, machine learning, Python, C++, Java, GitHub, PostgreSQL, Unity. Skilled in leadership, communication, and STEM education initiatives.\n",
      "Word count: 28\n",
      "\n",
      "Response: Experienced 3rd year computer science student proficient in full stack web development and machine learning. Skilled in Python, C++, Java, GitHub, PostgreSQL, Unity. Strong communicator and leader in STEM education.\n",
      "Word count: 30\n",
      "\n",
      "Response: I am a proficient 3rd year computer science student with expertise in full stack web development and machine learning. Skilled in Python, C++, Java, GitHub, PostgreSQL, and Unity.\n",
      "Word count: 28\n",
      "\n",
      "Response: Experienced 3rd year computer science student proficient in full stack web development and machine learning. Skilled in Python, C++, Java, GitHub, PostgreSQL, Unity. Strong communicator and leader in STEM education.\n",
      "Word count: 30\n",
      "\n",
      "Response: Experienced 3rd year computer science student proficient in full stack web development, machine learning, Python, C++, Java, GitHub, PostgreSQL, Unity. Skilled in communication and STEM education leadership.\n",
      "Word count: 27\n",
      "\n"
     ]
    }
   ],
   "source": [
    "def print_response(response):\n",
    "    # Process each response\n",
    "    response_text = response.choices[0].message.content\n",
    "    word_count = len(response_text.split())\n",
    "    \n",
    "    print(f\"Response: {response_text}\")\n",
    "    print(f\"Word count: {word_count}\\n\")\n",
    "\n",
    "for i in range(5):\n",
    "    # Make the request using param_testing function to get 5 responses\n",
    "    response = param_testing(description, context, prompt)\n",
    "    \n",
    "    print_response(response)"
   ]
  },
  {
   "cell_type": "markdown",
   "metadata": {},
   "source": [
    "Actually, these responses seem to have incomplete sentences. I think this can be fixed by having the model write in the first person."
   ]
  },
  {
   "cell_type": "code",
   "execution_count": 7,
   "metadata": {},
   "outputs": [
    {
     "name": "stdout",
     "output_type": "stream",
     "text": [
      "Response: I am a 3rd year computer science student proficient in full stack web development and machine learning. Skilled in Python, C++, Java, GitHub, PostgreSQL, Unity, and STEM education leadership.\n",
      "Word count: 29\n",
      "\n",
      "Response: I am a 3rd year computer science student proficient in full stack web development and machine learning. Skilled in Python, C++, Java, GitHub, PostgreSQL, Unity, and STEM education leadership.\n",
      "Word count: 29\n",
      "\n",
      "Response: I am a 3rd year computer science student proficient in full stack web development and machine learning. Skilled in Python, C++, Java, GitHub, PostgreSQL, Unity, and STEM education leadership.\n",
      "Word count: 29\n",
      "\n",
      "Response: I am a 3rd year computer science student proficient in full stack web development and machine learning. Skilled in Python, C++, Java, GitHub, PostgreSQL, Unity, and STEM education leadership.\n",
      "Word count: 29\n",
      "\n",
      "Response: I am a 3rd year computer science student proficient in full stack web development and machine learning. Skilled in Python, C++, Java, GitHub, PostgreSQL, Unity, and STEM education leadership.\n",
      "Word count: 29\n",
      "\n"
     ]
    }
   ],
   "source": [
    "context = \"You are an informative assistant, providing clear and factual information that is always written in the first person.\"\n",
    "\n",
    "for i in range(5):\n",
    "    # Make the request using param_testing function to get 5 responses\n",
    "    response = param_testing(description, context, prompt)\n",
    "    \n",
    "    print_response(response)"
   ]
  },
  {
   "cell_type": "code",
   "execution_count": 5,
   "metadata": {},
   "outputs": [],
   "source": [
    "temperatures = [0.0, 0.5, 1.0]\n",
    "max_tokens_list = [25, 50, 100]\n",
    "models = [\"gpt-3.5-turbo\", \"gpt-4-turbo\"]"
   ]
  },
  {
   "cell_type": "code",
   "execution_count": 11,
   "metadata": {
    "scrolled": true
   },
   "outputs": [
    {
     "name": "stdout",
     "output_type": "stream",
     "text": [
      "---Temperature=0.0---\n",
      "Response: I am a 3rd year computer science student proficient in full stack web development and machine learning. Skilled in Python, C++, Java, GitHub, PostgreSQL, Unity, and STEM education leadership.\n",
      "\tWord count: 29\n",
      "\n",
      "Response: I am a 3rd year computer science student proficient in full stack web development and machine learning. Skilled in Python, C++, Java, GitHub, PostgreSQL, Unity, and STEM education leadership.\n",
      "\tWord count: 29\n",
      "\n",
      "Response: I am a 3rd year computer science student proficient in full stack web development and machine learning. Skilled in Python, C++, Java, GitHub, PostgreSQL, Unity, and STEM education leadership.\n",
      "\tWord count: 29\n",
      "\n",
      "Response: I am a 3rd year computer science student proficient in full stack web development and machine learning. Skilled in Python, C++, Java, GitHub, PostgreSQL, Unity, and STEM education leadership.\n",
      "\tWord count: 29\n",
      "\n",
      "Response: I am a 3rd year computer science student proficient in full stack web development and machine learning. Skilled in Python, C++, Java, GitHub, PostgreSQL, Unity, and STEM education leadership.\n",
      "\tWord count: 29\n",
      "\n",
      "\n",
      "\n",
      "---Temperature=0.5---\n",
      "Response: I am a 3rd-year computer science student proficient in full-stack web development and machine learning. Skilled in Python, C++, Java, GitHub, PostgreSQL, Unity, and STEM education.\n",
      "\tWord count: 26\n",
      "\n",
      "Response: I am a 3rd year computer science student proficient in full stack web development and machine learning. Skilled in Python, C++, Java, GitHub, PostgreSQL, Unity. Experienced in leadership and STEM education.\n",
      "\tWord count: 31\n",
      "\n",
      "Response: I am a 3rd year computer science student proficient in full stack web development and machine learning. Skilled in Python, C++, Java, GitHub, PostgreSQL, and Unity. Experienced in leadership and STEM education.\n",
      "\tWord count: 32\n",
      "\n",
      "Response: I am a 3rd year computer science student proficient in full stack web development and machine learning. Skilled in Python, C++, Java, GitHub, PostgreSQL, Unity, and STEM education.\n",
      "\tWord count: 28\n",
      "\n",
      "Response: I am a 3rd year computer science student proficient in full stack web development and machine learning. Skilled in Python, C++, Java, GitHub, PostgreSQL, Unity, with experience in leadership and STEM education.\n",
      "\tWord count: 32\n",
      "\n",
      "\n",
      "\n",
      "---Temperature=1.0---\n",
      "Response: I am a 3rd year computer science student with expertise in full stack web development, machine learning, programming languages like Python, C++, Java, and technical tools such as GitHub, PostgreSQL, Unity.\n",
      "\tWord count: 31\n",
      "\n",
      "Response: I am a 3rd-year computer science student proficient in full-stack web development and machine learning. Skilled in Python, C++, Java, GitHub, PostgreSQL, and Unity. Experienced in leadership and STEM education.\n",
      "\tWord count: 30\n",
      "\n",
      "Response: I am a 3rd year computer science student with skills in full stack web development and machine learning. Proficient in Python, C++, Java, GitHub, PostgreSQL, and Unity. Passionate STEM educator.\n",
      "\tWord count: 30\n",
      "\n",
      "Response: I am a 3rd-year computer science student proficient in full stack web development and machine learning. Skilled in Python, C++, Java, GitHub, PostgreSQL, Unity. Strong communication and leadership abilities.\n",
      "\tWord count: 29\n",
      "\n",
      "Response: I am a 3rd year computer science student experienced in full stack web development and machine learning. Proficient in Python, C++, Java, GitHub, PostgreSQL, Unity. Skilled in STEM education leadership.\n",
      "\tWord count: 30\n",
      "\n",
      "\n",
      "\n"
     ]
    }
   ],
   "source": [
    "avg_wc_list = []\n",
    "\n",
    "# Test each temperature\n",
    "for i, temp in enumerate(temperatures):\n",
    "    word_counts = []\n",
    "    \n",
    "    print(f\"---Temperature={temp}---\")\n",
    "    for i in range(5):\n",
    "        # Make the request using param_testing function\n",
    "        response = param_testing(description, context, prompt, temperature=temp)\n",
    "\n",
    "        response_text = response.choices[0].message.content\n",
    "        word_count = len(response_text.split())\n",
    "        word_counts.append(word_count)\n",
    "\n",
    "        print(f\"Response: {response_text}\")\n",
    "        print(f\"\\tWord count: {word_count}\\n\")\n",
    "    print(\"\\n\")\n",
    "    \n",
    "    avg_wc = sum(word_counts) / len(word_counts)\n",
    "    avg_wc_list.append(avg_wc)"
   ]
  },
  {
   "cell_type": "code",
   "execution_count": 12,
   "metadata": {},
   "outputs": [
    {
     "name": "stdout",
     "output_type": "stream",
     "text": [
      "Average WC for Temperature=0.0:  29.0\n",
      "Average WC for Temperature=0.5:  29.8\n",
      "Average WC for Temperature=1.0:  30.0\n"
     ]
    }
   ],
   "source": [
    "for i, avg_wc in enumerate(avg_wc_list):\n",
    "    print(f\"Average WC for Temperature={temperatures[i]}:  {avg_wc}\")"
   ]
  },
  {
   "cell_type": "markdown",
   "metadata": {},
   "source": [
    "My observations of temperature given this prompt/context combo:\n",
    "\n",
    "- for this word limit of just 30, there was not a significant difference between 0.0 and 0.5\n",
    "- Higher temperatures were more likely to break the word limit\n",
    "- Lower temperatures are more consistent in the responses they give. Regenerating responses may be redundant."
   ]
  },
  {
   "cell_type": "code",
   "execution_count": 13,
   "metadata": {
    "scrolled": true
   },
   "outputs": [
    {
     "name": "stdout",
     "output_type": "stream",
     "text": [
      "---Max_Tokens=25---\n",
      "Response: I am a 3rd year computer science student proficient in full stack web development and machine learning. Skilled in Python,\n",
      "\tWord count: 20\n",
      "\n",
      "Response: I am a 3rd year computer science student proficient in full stack web development and machine learning. Skilled in Python,\n",
      "\tWord count: 20\n",
      "\n",
      "Response: I am a 3rd year computer science student proficient in full stack web development and machine learning. Skilled in Python,\n",
      "\tWord count: 20\n",
      "\n",
      "Response: I am a 3rd-year computer science student proficient in full-stack web development and machine learning. Skilled in Python,\n",
      "\tWord count: 18\n",
      "\n",
      "Response: I am a 3rd year computer science student proficient in full stack web development and machine learning. Skilled in Python,\n",
      "\tWord count: 20\n",
      "\n",
      "\n",
      "\n",
      "---Max_Tokens=50---\n",
      "Response: I am a 3rd year computer science student proficient in full stack web development and machine learning. Skilled in Python, C++, Java, GitHub, PostgreSQL, Unity, and STEM education leadership.\n",
      "\tWord count: 29\n",
      "\n",
      "Response: I am a 3rd year computer science student proficient in full stack web development and machine learning. Skilled in Python, C++, Java, GitHub, PostgreSQL, Unity, and STEM education leadership.\n",
      "\tWord count: 29\n",
      "\n",
      "Response: I am a 3rd year computer science student proficient in full stack web development and machine learning. Skilled in Python, C++, Java, GitHub, PostgreSQL, Unity, and STEM education leadership.\n",
      "\tWord count: 29\n",
      "\n",
      "Response: I am a 3rd year computer science student proficient in full stack web development and machine learning. Skilled in Python, C++, Java, GitHub, PostgreSQL, Unity, and STEM education leadership.\n",
      "\tWord count: 29\n",
      "\n",
      "Response: I am a 3rd year computer science student proficient in full stack web development and machine learning. Skilled in Python, C++, Java, GitHub, PostgreSQL, Unity, and STEM education leadership.\n",
      "\tWord count: 29\n",
      "\n",
      "\n",
      "\n",
      "---Max_Tokens=100---\n",
      "Response: I am a 3rd year computer science student proficient in full stack web development and machine learning. Skilled in Python, C++, Java, GitHub, PostgreSQL, Unity, and STEM education leadership.\n",
      "\tWord count: 29\n",
      "\n",
      "Response: I am a 3rd year computer science student proficient in full stack web development and machine learning. Skilled in Python, C++, Java, GitHub, PostgreSQL, Unity, and STEM education leadership.\n",
      "\tWord count: 29\n",
      "\n",
      "Response: I am a 3rd year computer science student proficient in full stack web development and machine learning. Skilled in Python, C++, Java, GitHub, PostgreSQL, Unity, and STEM education leadership.\n",
      "\tWord count: 29\n",
      "\n",
      "Response: I am a 3rd year computer science student proficient in full stack web development and machine learning. Skilled in Python, C++, Java, GitHub, PostgreSQL, Unity, and STEM education leadership.\n",
      "\tWord count: 29\n",
      "\n",
      "Response: I am a 3rd year computer science student proficient in full stack web development and machine learning. Skilled in Python, C++, Java, GitHub, PostgreSQL, Unity, and STEM education.\n",
      "\tWord count: 28\n",
      "\n",
      "\n",
      "\n"
     ]
    }
   ],
   "source": [
    "avg_wc_list = []\n",
    "\n",
    "# Test each max_tokens value\n",
    "for i, max_tokens in enumerate(max_tokens_list):\n",
    "    word_counts = []\n",
    "    \n",
    "    print(f\"---Max_Tokens={max_tokens}---\")\n",
    "    for i in range(5):\n",
    "        # Make the request using param_testing function\n",
    "        response = param_testing(description, context, prompt, max_tokens=max_tokens)\n",
    "\n",
    "        response_text = response.choices[0].message.content\n",
    "        word_count = len(response_text.split())\n",
    "        word_counts.append(word_count)\n",
    "\n",
    "        print(f\"Response: {response_text}\")\n",
    "        print(f\"\\tWord count: {word_count}\\n\")\n",
    "    print(\"\\n\")\n",
    "    \n",
    "    avg_wc = sum(word_counts) / len(word_counts)\n",
    "    avg_wc_list.append(avg_wc)"
   ]
  },
  {
   "cell_type": "code",
   "execution_count": 16,
   "metadata": {},
   "outputs": [
    {
     "name": "stdout",
     "output_type": "stream",
     "text": [
      "Average WC for max_tokens=25:  19.6\n",
      "Average WC for max_tokens=50:  29.0\n",
      "Average WC for max_tokens=100:  28.8\n"
     ]
    }
   ],
   "source": [
    "for i, avg_wc in enumerate(avg_wc_list):\n",
    "    print(f\"Average WC for max_tokens={max_tokens_list[i]}:  {avg_wc}\")"
   ]
  },
  {
   "cell_type": "markdown",
   "metadata": {},
   "source": [
    "My observations of max_tokens given this prompt/context combo:\n",
    "\n",
    "- This does limit the response length effectively. However, it simply cuts off the response mid sentence if the max_tokens is exceeded.\n",
    "- This may be good for rate-limits, but is not suited for limiting word count if completeness and coherence is valued.\n",
    "- responses seem roughly identical"
   ]
  },
  {
   "cell_type": "code",
   "execution_count": 17,
   "metadata": {
    "scrolled": true
   },
   "outputs": [
    {
     "name": "stdout",
     "output_type": "stream",
     "text": [
      "---Model=gpt-3.5-turbo---\n",
      "Response: I am a 3rd year computer science student proficient in full stack web development and machine learning. Skilled in Python, C++, Java, GitHub, PostgreSQL, Unity, and STEM education leadership.\n",
      "\tWord count: 29\n",
      "\n",
      "Response: I am a 3rd year computer science student proficient in full stack web development and machine learning. Skilled in Python, C++, Java, GitHub, PostgreSQL, Unity, and STEM education leadership.\n",
      "\tWord count: 29\n",
      "\n",
      "Response: I am a 3rd year computer science student proficient in full stack web development and machine learning. Skilled in Python, C++, Java, GitHub, PostgreSQL, Unity, and STEM education.\n",
      "\tWord count: 28\n",
      "\n",
      "Response: I am a 3rd year computer science student proficient in full stack web development and machine learning. Skilled in Python, C++, Java, GitHub, PostgreSQL, Unity, and STEM education leadership.\n",
      "\tWord count: 29\n",
      "\n",
      "Response: I am a 3rd year computer science student proficient in full stack web development and machine learning. Skilled in Python, C++, Java, GitHub, PostgreSQL, Unity, with leadership in STEM education.\n",
      "\tWord count: 30\n",
      "\n",
      "\n",
      "\n",
      "---Model=gpt-4-turbo---\n",
      "Response: As a 3rd year computer science student, I specialize in full stack development and machine learning, with proficiency in Python, C++, Java, and various technical tools. I also lead STEM education initiatives.\n",
      "\tWord count: 32\n",
      "\n",
      "Response: As a 3rd year computer science student, I specialize in full stack development and machine learning, proficient in Python, C++, and Java, with leadership experience in STEM education.\n",
      "\tWord count: 28\n",
      "\n",
      "Response: As a 3rd year computer science student, I specialize in full stack development and machine learning, with strong programming skills in Python, C++, and Java, and leadership in STEM education.\n",
      "\tWord count: 30\n",
      "\n",
      "Response: As a 3rd year computer science student, I specialize in full stack development and machine learning, with strong programming skills in Python, C++, and Java, and leadership in STEM education.\n",
      "\tWord count: 30\n",
      "\n",
      "Response: As a 3rd year computer science student, I specialize in full stack development and machine learning, with proficiency in Python, C++, Java, and various technical tools. I also lead STEM education initiatives.\n",
      "\tWord count: 32\n",
      "\n",
      "\n",
      "\n"
     ]
    }
   ],
   "source": [
    "avg_wc_list = []\n",
    "\n",
    "# Test each max_tokens value\n",
    "for i, model in enumerate(models):\n",
    "    word_counts = []\n",
    "    \n",
    "    print(f\"---Model={model}---\")\n",
    "    for i in range(5):\n",
    "        # Make the request using param_testing function\n",
    "        response = param_testing(description, context, prompt, model=model)\n",
    "\n",
    "        response_text = response.choices[0].message.content\n",
    "        word_count = len(response_text.split())\n",
    "        word_counts.append(word_count)\n",
    "\n",
    "        print(f\"Response: {response_text}\")\n",
    "        print(f\"\\tWord count: {word_count}\\n\")\n",
    "    print(\"\\n\")\n",
    "    \n",
    "    avg_wc = sum(word_counts) / len(word_counts)\n",
    "    avg_wc_list.append(avg_wc)"
   ]
  },
  {
   "cell_type": "code",
   "execution_count": 18,
   "metadata": {},
   "outputs": [
    {
     "name": "stdout",
     "output_type": "stream",
     "text": [
      "Average WC for model=gpt-3.5-turbo:  29.0\n",
      "Average WC for model=gpt-4-turbo:  30.4\n"
     ]
    }
   ],
   "source": [
    "for i, avg_wc in enumerate(avg_wc_list):\n",
    "    print(f\"Average WC for model={models[i]}:  {avg_wc}\")"
   ]
  },
  {
   "cell_type": "markdown",
   "metadata": {},
   "source": [
    "My observations of models given this prompt/context combo:\n",
    "\n",
    "- There is some variation in the writing style of each model\n",
    "- GPT-4 seems more likely to push/exceed the word count, but more testing may be needed to verify this"
   ]
  },
  {
   "cell_type": "code",
   "execution_count": null,
   "metadata": {},
   "outputs": [],
   "source": []
  }
 ],
 "metadata": {
  "kernelspec": {
   "display_name": "Python 3",
   "language": "python",
   "name": "myenv"
  },
  "language_info": {
   "codemirror_mode": {
    "name": "ipython",
    "version": 3
   },
   "file_extension": ".py",
   "mimetype": "text/x-python",
   "name": "python",
   "nbconvert_exporter": "python",
   "pygments_lexer": "ipython3",
   "version": "3.8.10"
  }
 },
 "nbformat": 4,
 "nbformat_minor": 2
}
